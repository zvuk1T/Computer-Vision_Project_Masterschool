{
 "cells": [
  {
   "cell_type": "code",
   "execution_count": 1,
   "metadata": {},
   "outputs": [
    {
     "name": "stdout",
     "output_type": "stream",
     "text": [
      "http://custanerthink.comQ09180/What is Marketing?Chux GervaseIs it true that every tune people atempt to satisfy their needs by means of an exchange. is involved? Oris it false? I once posed this question b a group of marketing students. Their answers were as varéd andenterbining as a circus. The conversations that fbwed from this made b do a rethink about what marketingrealty is.What is marketing? Several authors have defined marketing in various vays. The American Marketing Associationdefines marketing as the process of phnrmg and executing the conæption. pricing. promotion and distrbution ofideas. goods and semces creae exchanges that satisfy indivnual and organisational goals. Cronje, et al(2007:283) define markemg as consismg of management tasks and decisions direced at successfully meetingopportunities and threats in a dynamic environment, by effectively developing and transferring a need-satisfyingmarket offering consumers. in such a way that the objectives of the business. the consumer and society will beacheved.\n"
     ]
    }
   ],
   "source": [
    "import requests\n",
    "import os \n",
    "\n",
    "api = f'https://api.ocr.space/parse/imageurl?apikey={os.environ[\"OCR_KEY\"]}&url={os.environ[\"URL\"]}'\n",
    "\n",
    "ocr_results = requests.get(api)\n",
    "\n",
    "extracted_info = ocr_results.json()\n",
    "\n",
    "print(extracted_info['ParsedResults'][0]['ParsedText'].replace(\"\\r\\n\", \"\"))"
   ]
  }
 ],
 "metadata": {
  "kernelspec": {
   "display_name": ".venv",
   "language": "python",
   "name": "python3"
  },
  "language_info": {
   "codemirror_mode": {
    "name": "ipython",
    "version": 3
   },
   "file_extension": ".py",
   "mimetype": "text/x-python",
   "name": "python",
   "nbconvert_exporter": "python",
   "pygments_lexer": "ipython3",
   "version": "3.9.21"
  }
 },
 "nbformat": 4,
 "nbformat_minor": 2
}
